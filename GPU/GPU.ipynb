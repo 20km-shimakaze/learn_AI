{
 "cells": [
  {
   "cell_type": "code",
   "execution_count": 1,
   "metadata": {
    "collapsed": true
   },
   "outputs": [],
   "source": [
    "import torch\n",
    "from torch import nn"
   ]
  },
  {
   "cell_type": "code",
   "execution_count": 2,
   "outputs": [],
   "source": [
    "def try_gpu(i=0):\n",
    "    \"\"\"尝试创建gpu(i)\"\"\"\n",
    "    if torch.cuda.device_count() >= i+1:\n",
    "        return torch.device(f'cuda:{i}')\n",
    "    return torch.device('cpu')\n",
    "\n",
    "def try_all_gpus():\n",
    "    \"\"\"尝试返回所有可用的gpu\"\"\"\n",
    "    devices = [torch.device(f'cuda:{i}') for i in range(torch.cuda.device_count())]\n",
    "    return devices if devices else [torch.device('cpu')]"
   ],
   "metadata": {
    "collapsed": false
   }
  },
  {
   "cell_type": "code",
   "execution_count": 3,
   "outputs": [
    {
     "name": "stdout",
     "output_type": "stream",
     "text": [
      "[device(type='cuda', index=0)]\n",
      "cuda:0\n",
      "cpu\n"
     ]
    }
   ],
   "source": [
    "print(try_all_gpus())\n",
    "print(try_gpu(0))\n",
    "print(try_gpu(3))"
   ],
   "metadata": {
    "collapsed": false
   }
  },
  {
   "cell_type": "code",
   "execution_count": 4,
   "outputs": [
    {
     "data": {
      "text/plain": "device(type='cuda', index=0)"
     },
     "execution_count": 4,
     "metadata": {},
     "output_type": "execute_result"
    }
   ],
   "source": [
    "X = torch.tensor([2, 3, 5], device=try_gpu())\n",
    "X.device"
   ],
   "metadata": {
    "collapsed": false
   }
  },
  {
   "cell_type": "code",
   "execution_count": 5,
   "outputs": [
    {
     "data": {
      "text/plain": "tensor([[  12.9548, -127.1530, -242.3554,  ...,   43.6304, -110.6290,\n          392.2746],\n        [-224.7108,  -75.9367,  196.9269,  ..., -101.9805,  246.6071,\n          -58.4568],\n        [ -29.6061,  -70.3431, -156.8325,  ...,   97.2198,   -2.0481,\n          172.8679],\n        ...,\n        [ 223.1935,  370.5002,   89.6827,  ...,  391.8047,  184.3385,\n           33.0792],\n        [  39.3876,  -65.7002,   92.4426,  ...,  114.4435, -310.0942,\n         -255.5323],\n        [ 289.3211,  273.1717, -204.7105,  ...,  -70.0219,  -51.6329,\n         -362.3385]], device='cuda:0')"
     },
     "execution_count": 5,
     "metadata": {},
     "output_type": "execute_result"
    }
   ],
   "source": [
    "X = torch.randn(30000, 40000, device=try_gpu())\n",
    "Y = torch.randn(40000, 4000, device=try_gpu())\n",
    "X @ Y"
   ],
   "metadata": {
    "collapsed": false
   }
  },
  {
   "cell_type": "code",
   "execution_count": 4,
   "outputs": [],
   "source": [
    "net = nn.Sequential(nn.Linear(3, 1))\n",
    "net = net.to(device=try_gpu())"
   ],
   "metadata": {
    "collapsed": false
   }
  },
  {
   "cell_type": "code",
   "execution_count": null,
   "outputs": [],
   "source": [],
   "metadata": {
    "collapsed": false
   }
  }
 ],
 "metadata": {
  "kernelspec": {
   "display_name": "Python 3",
   "language": "python",
   "name": "python3"
  },
  "language_info": {
   "codemirror_mode": {
    "name": "ipython",
    "version": 2
   },
   "file_extension": ".py",
   "mimetype": "text/x-python",
   "name": "python",
   "nbconvert_exporter": "python",
   "pygments_lexer": "ipython2",
   "version": "2.7.6"
  }
 },
 "nbformat": 4,
 "nbformat_minor": 0
}
